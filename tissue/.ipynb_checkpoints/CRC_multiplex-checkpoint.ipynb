{
 "cells": [
  {
   "cell_type": "code",
   "execution_count": 3,
   "metadata": {
    "collapsed": false
   },
   "outputs": [],
   "source": [
    "import sqlalchemy\n",
    "import sqlite3, csv, os\n",
    "from sqlalchemy import (Boolean, Column, Enum, ForeignKey, Integer, String,PickleType,MetaData,\n",
    "                        Float,Table, UniqueConstraint, create_engine)\n",
    "from sqlalchemy import (not_, select,and_) \n",
    "from datetime import datetime\n",
    "from sqlalchemy import *\n",
    "from sqlalchemy.dialects.postgresql import ARRAY\n",
    "from sklearn import datasets\n",
    "from sklearn import *\n",
    "# from sklearn.model_selection import train_test_split\n",
    "from numpy import genfromtxt\n",
    "import numpy as np\n",
    "import time\n",
    "from scipy.spatial.distance import cdist, pdist\n",
    "from sklearn.decomposition import PCA\n",
    "from scipy.spatial.distance import cdist, pdist\n",
    "from sklearn.cluster import KMeans\n",
    "from sklearn.cluster import MiniBatchKMeans\n",
    "from sklearn import preprocessing\n",
    "from sklearn.metrics import silhouette_samples, silhouette_score\n",
    "from mpl_toolkits.mplot3d import Axes3D\n",
    "from matplotlib.colors import LogNorm\n",
    "from sklearn import model_selection\n",
    "import time\n",
    "import numpy as np\n",
    "import matplotlib.pyplot as plt\n",
    "import matplotlib\n",
    "from matplotlib.colors import ListedColormap\n",
    "%matplotlib inline\n",
    "plt.rcParams['figure.figsize'] = (10.0, 8.0) # set default size of plots\n",
    "plt.rcParams['image.interpolation'] = 'nearest'\n",
    "plt.rcParams['image.cmap'] = 'gray'\n",
    "# from unsupervised_alt import *"
   ]
  },
  {
   "cell_type": "code",
   "execution_count": 4,
   "metadata": {
    "collapsed": false
   },
   "outputs": [
    {
     "name": "stdout",
     "output_type": "stream",
     "text": [
      "['slide_name', 'POSITION', 'ID', 'CellCentroid.X', 'CellCentroid.Y', 'Epithelium.Stroma', 'Perimeter', 'Eccentricity', 'MajorAxisLength', 'MinorAxisLength', 'Number.of.Nuclei', 'Area.Cell', 'Area.Nuclei', 'Area.Memb', 'Area.Cyt', 'SS', 'Median.Cell.pERK', 'Median.Cell.CD31', 'Median.Cell.BetaCatenin', 'Median.Cell.S6', 'Median.Cell.pS6235', 'Median.Cell.Fibronectin', 'Median.Cell.beta_actin', 'Median.Cell.pck26', 'Median.Cell.Glut1', 'Median.Cell.NaKATPase', 'Median.Cell.SMA', 'Median.Cell.Albumin', 'Median.Cell.CK19', 'Median.Cell.EGFR', 'Median.Cell.p4EBP1', 'Median.Cell.Wnt5', 'Median.Cell.pNDRG1', 'Median.Cell.FOXO3a', 'Median.Cell.MLH1', 'Median.Cell.E_cad', 'Median.Cell.pGSK3a', 'Median.Cell.LaminA_C', 'Median.Cell.pGSK3beta', 'Median.Cell.EZH2', 'Median.Cell.ALDH1', 'Median.Cell.p21', 'Median.Cell.Claudin1', 'Median.Cell.CD20', 'Median.Cell.IHH', 'Median.Cell.pEGFR', 'Median.Cell.NDRG1', 'Median.Cell.CD68', 'Median.Cell.TKLP1', 'Median.Cell.CD8', 'Median.Cell.CD79', 'Median.Cell.PTEN', 'Median.Cell.pMET_Y1349', 'Median.Cell.pMAPKAPK2', 'Median.Cell.FOXO1', 'Median.Cell.Akt', 'Median.Cell.CA9', 'Median.Cell.CleavedCaspase3', 'Median.Cell.ERK', 'Median.Cell.p_p38MAPK', 'Median.Cell.EPCAM', 'Median.Cell.CD3', 'Median.Cell.MSH2', 'Median.Cell.CD163', 'Median.Cell.cMET_epitomics', 'Median.Cell.PI3Kp110a', 'Median.Cell.4EBP1', 'Median.Cell.COX2', 'Median.Cell.PCNA', 'Median.Cell.p53', 'Median.Cell.DAPI', 'Median.Cell.ColIV', 'Median.Cyt.pERK', 'Median.Cyt.CD31', 'Median.Cyt.BetaCatenin', 'Median.Cyt.S6', 'Median.Cyt.pS6235', 'Median.Cyt.Fibronectin', 'Median.Cyt.beta_actin', 'Median.Cyt.pck26', 'Median.Cyt.Glut1', 'Median.Cyt.NaKATPase', 'Median.Cyt.SMA', 'Median.Cyt.Albumin', 'Median.Cyt.CK19', 'Median.Cyt.EGFR', 'Median.Cyt.p4EBP1', 'Median.Cyt.Wnt5', 'Median.Cyt.pNDRG1', 'Median.Cyt.FOXO3a', 'Median.Cyt.MLH1', 'Median.Cyt.E_cad', 'Median.Cyt.pGSK3a', 'Median.Cyt.LaminA_C', 'Median.Cyt.pGSK3beta', 'Median.Cyt.EZH2', 'Median.Cyt.ALDH1', 'Median.Cyt.p21', 'Median.Cyt.Claudin1', 'Median.Cyt.CD20', 'Median.Cyt.IHH', 'Median.Cyt.pEGFR', 'Median.Cyt.NDRG1', 'Median.Cyt.CD68', 'Median.Cyt.TKLP1', 'Median.Cyt.CD8', 'Median.Cyt.CD79', 'Median.Cyt.PTEN', 'Median.Cyt.pMET_Y1349', 'Median.Cyt.pMAPKAPK2', 'Median.Cyt.FOXO1', 'Median.Cyt.Akt', 'Median.Cyt.CA9', 'Median.Cyt.CleavedCaspase3', 'Median.Cyt.ERK', 'Median.Cyt.p_p38MAPK', 'Median.Cyt.EPCAM', 'Median.Cyt.CD3', 'Median.Cyt.MSH2', 'Median.Cyt.CD163', 'Median.Cyt.cMET_epitomics', 'Median.Cyt.PI3Kp110a', 'Median.Cyt.4EBP1', 'Median.Cyt.COX2', 'Median.Cyt.PCNA', 'Median.Cyt.p53', 'Median.Cyt.DAPI', 'Median.Cyt.ColIV', 'Median.Memb.pERK', 'Median.Memb.CD31', 'Median.Memb.BetaCatenin', 'Median.Memb.S6', 'Median.Memb.pS6235', 'Median.Memb.Fibronectin', 'Median.Memb.beta_actin', 'Median.Memb.pck26', 'Median.Memb.Glut1', 'Median.Memb.NaKATPase', 'Median.Memb.SMA', 'Median.Memb.Albumin', 'Median.Memb.CK19', 'Median.Memb.EGFR', 'Median.Memb.p4EBP1', 'Median.Memb.Wnt5', 'Median.Memb.pNDRG1', 'Median.Memb.FOXO3a', 'Median.Memb.MLH1', 'Median.Memb.E_cad', 'Median.Memb.pGSK3a', 'Median.Memb.LaminA_C', 'Median.Memb.pGSK3beta', 'Median.Memb.EZH2', 'Median.Memb.ALDH1', 'Median.Memb.p21', 'Median.Memb.Claudin1', 'Median.Memb.CD20', 'Median.Memb.IHH', 'Median.Memb.pEGFR', 'Median.Memb.NDRG1', 'Median.Memb.CD68', 'Median.Memb.TKLP1', 'Median.Memb.CD8', 'Median.Memb.CD79', 'Median.Memb.PTEN', 'Median.Memb.pMET_Y1349', 'Median.Memb.pMAPKAPK2', 'Median.Memb.FOXO1', 'Median.Memb.Akt', 'Median.Memb.CA9', 'Median.Memb.CleavedCaspase3', 'Median.Memb.ERK', 'Median.Memb.p_p38MAPK', 'Median.Memb.EPCAM', 'Median.Memb.CD3', 'Median.Memb.MSH2', 'Median.Memb.CD163', 'Median.Memb.cMET_epitomics', 'Median.Memb.PI3Kp110a', 'Median.Memb.4EBP1', 'Median.Memb.COX2', 'Median.Memb.PCNA', 'Median.Memb.p53', 'Median.Memb.DAPI', 'Median.Memb.ColIV', 'Median.Nuc.pERK', 'Median.Nuc.CD31', 'Median.Nuc.BetaCatenin', 'Median.Nuc.S6', 'Median.Nuc.pS6235', 'Median.Nuc.Fibronectin', 'Median.Nuc.beta_actin', 'Median.Nuc.pck26', 'Median.Nuc.Glut1', 'Median.Nuc.NaKATPase', 'Median.Nuc.SMA', 'Median.Nuc.Albumin', 'Median.Nuc.CK19', 'Median.Nuc.EGFR', 'Median.Nuc.p4EBP1', 'Median.Nuc.Wnt5', 'Median.Nuc.pNDRG1', 'Median.Nuc.FOXO3a', 'Median.Nuc.MLH1', 'Median.Nuc.E_cad', 'Median.Nuc.pGSK3a', 'Median.Nuc.LaminA_C', 'Median.Nuc.pGSK3beta', 'Median.Nuc.EZH2', 'Median.Nuc.ALDH1', 'Median.Nuc.p21', 'Median.Nuc.Claudin1', 'Median.Nuc.CD20', 'Median.Nuc.IHH', 'Median.Nuc.pEGFR', 'Median.Nuc.NDRG1', 'Median.Nuc.CD68', 'Median.Nuc.TKLP1', 'Median.Nuc.CD8', 'Median.Nuc.CD79', 'Median.Nuc.PTEN', 'Median.Nuc.pMET_Y1349', 'Median.Nuc.pMAPKAPK2', 'Median.Nuc.FOXO1', 'Median.Nuc.Akt', 'Median.Nuc.CA9', 'Median.Nuc.CleavedCaspase3', 'Median.Nuc.ERK', 'Median.Nuc.p_p38MAPK', 'Median.Nuc.EPCAM', 'Median.Nuc.CD3', 'Median.Nuc.MSH2', 'Median.Nuc.CD163', 'Median.Nuc.cMET_epitomics', 'Median.Nuc.PI3Kp110a', 'Median.Nuc.4EBP1', 'Median.Nuc.COX2', 'Median.Nuc.PCNA', 'Median.Nuc.p53', 'Median.Nuc.DAPI', 'Median.Nuc.ColIV']\n",
      "----Load pickle takes 7.93044018745 seconds - so much faster----\n",
      "shape of biomarkers is (1312641, 236)\n",
      "236\n",
      "there are  56  cytoplasm biomarkers\n",
      "there are  56 membrane biomarkers\n",
      "there are  56 nuclear biomarkers\n",
      "7\n",
      "(1312641, 236)\n",
      "1295994\n",
      "[180 181 182 183 184 185 186 187 188 189 190 191 192 193 194 195 196 197\n",
      " 198 199 200 201 202 203 204 205 206 207 208 209 210 211 212 213 214 215\n",
      " 216 217 218 219 220 221 222 223 224 225 226 227 228 229 230 231 232 233\n",
      " 234 235]\n",
      "236\n",
      "56\n",
      "['4EBP1', 'Akt', 'Albumin', 'ALDH1', 'beta_actin', 'BetaCatenin', 'CA9', 'CD163', 'CD20', 'CD3', 'CD31', 'CD68', 'CD79', 'CD8', 'CK19', 'Claudin1', 'CleavedCaspase3', 'cMET_epitomics', 'ColIV', 'COX2', 'DAPI', 'E_cad', 'EGFR', 'EPCAM', 'ERK', 'EZH2', 'Fibronectin', 'FOXO1', 'FOXO3a', 'Glut1', 'IHH', 'LaminA_C', 'MLH1', 'MSH2', 'NaKATPase', 'NDRG1', 'p21', 'p4EBP1', 'p53', 'p_p38MAPK', 'pck26', 'PCNA', 'pEGFR', 'pERK', 'pGSK3a', 'pGSK3beta', 'PI3Kp110a', 'pMAPKAPK2', 'pMET_Y1349', 'pNDRG1', 'pS6235', 'PTEN', 'S6', 'SMA', 'TKLP1', 'Wnt5']\n"
     ]
    }
   ],
   "source": [
    "data_path = \"/home/lun5/Documents/multiplex/data/\"\n",
    "input_path = \"/home/lun5/Documents/multiplex/input/\"\n",
    "data_fname = 'Filtered.QCed.NoTcorr.SegExclude.HighDAPI.log2.Median.Norm.Cells.csv'\n",
    "f = open(os.path.join(input_path,data_fname),'rb')\n",
    "f_csv = csv.DictReader(f)\n",
    "print f_csv.fieldnames\n",
    "\n",
    "start_time = time.time()\n",
    "biomarkers = np.load(os.path.join(data_path,'biomarkers.npy'))\n",
    "print('----Load pickle takes %s seconds - so much faster----' %(time.time() - start_time))\n",
    "print 'shape of biomarkers is', biomarkers.shape\n",
    "\n",
    "fields = f_csv.fieldnames[3:15] + f_csv.fieldnames[16:]\n",
    "print len(fields)\n",
    "cyt_bio_indx = ['.Cyt.' in fields[i] for i in xrange(len(fields))]\n",
    "print 'there are ', sum(cyt_bio_indx), ' cytoplasm biomarkers'\n",
    "\n",
    "memb_bio_indx = ['.Memb.' in fields[i] for i in xrange(len(fields))]\n",
    "print 'there are ', sum(memb_bio_indx), 'membrane biomarkers'\n",
    "\n",
    "nuc_bio_indx = ['.Nuc.' in fields[i] for i in xrange(len(fields))]\n",
    "print 'there are ', sum(nuc_bio_indx), 'nuclear biomarkers'\n",
    "\n",
    "print np.nonzero(['Number.of.Nuclei' in fields[i] for i in xrange(len(fields))])[0][0]\n",
    "print biomarkers.shape\n",
    "print np.sum(biomarkers[:,7] == 1)\n",
    "split_name = [str.split(fields[i],'.')[-1] for i in xrange(len(fields))]\n",
    "nuc_bio_indx = np.nonzero(np.array(nuc_bio_indx))[0]\n",
    "print nuc_bio_indx\n",
    "print len(split_name)\n",
    "nuc_biomarkers_names = [split_name[nuc_bio_indx[i]] for i in xrange(len(nuc_bio_indx))]\n",
    "print len(nuc_biomarkers_names)\n",
    "print sorted(nuc_biomarkers_names, key=str.lower)"
   ]
  },
  {
   "cell_type": "code",
   "execution_count": 6,
   "metadata": {
    "collapsed": false
   },
   "outputs": [
    {
     "name": "stdout",
     "output_type": "stream",
     "text": [
      "61\n",
      "61\n",
      "['4EBP1', 'ALDH1', 'Akt', 'Albumin', 'BetaCatenin', 'CA9', 'CD163', 'CD20', 'CD3', 'CD31', 'CD68', 'CD79', 'CD8', 'CK19', 'COX2', 'Claudin1', 'CleavedCaspase3', 'ColIV', 'DAPI', 'EGFR', 'EPCAM', 'ERK', 'EZH2', 'E_cad', 'FOXO1', 'FOXO3a', 'Fibronectin', 'Glut1', 'IHH', 'LaminA_C', 'MLH1', 'MSH2', 'NDRG1', 'NaKATPase', 'PCNA', 'PI3Kp110a', 'PTEN', 'S6', 'SMA', 'TKLP1', 'Wnt5', 'beta_actin', 'cMET_epitomics', 'p21', 'p4EBP1', 'p53', 'pEGFR', 'pERK', 'pGSK3a', 'pGSK3beta', 'pMAPKAPK2', 'pMET_Y1349', 'pNDRG1', 'pS6235', 'p_p38MAPK', 'pck26']\n"
     ]
    }
   ],
   "source": [
    "f_quality = open(os.path.join(input_path,'biomarkers_quality.csv'),'rb')\n",
    "f_csv_quality = csv.DictReader(f_quality)\n",
    "# print f_csv.fieldnames\n",
    "\n",
    "marker = []\n",
    "quality = []\n",
    "for row in f_csv_quality:\n",
    "    marker.append(row['marker'])\n",
    "    quality.append(row['quality'])\n",
    "    \n",
    "print len(marker)\n",
    "print len(quality)\n",
    "print sorted(nuc_biomarkers_names)"
   ]
  },
  {
   "cell_type": "code",
   "execution_count": 7,
   "metadata": {
    "collapsed": false
   },
   "outputs": [
    {
     "name": "stdout",
     "output_type": "stream",
     "text": [
      "[1 1 1 1 1 2 1 1 1 1 1 1 2 1 1 2 1 2 1 1 2 1 1 1 1 2 1 1 2 2 1 1 2 1 2 1 2\n",
      " 1 2 1 1 1 1 2 1 1 1 2 0 2 1 1 2 1 0 1]\n",
      "[180 181 182 183 184 186 187 188 189 190 191 193 194 196 198 199 201 202\n",
      " 203 204 206 207 210 211 213 215 217 219 220 221 222 224 225 226 230 231\n",
      " 233 235]\n",
      "38\n"
     ]
    }
   ],
   "source": [
    "nuc_biomarkers_names = [nuc_biomarkers_names[i].lower() for i in xrange(len(nuc_biomarkers_names))]\n",
    "marker = [marker[i].lower() for i in xrange(len(marker))]\n",
    "# print nuc_biomarkers_names\n",
    "# print marker\n",
    "\n",
    "# indx_in = np.array([nuc_biomarkers_names[i] in marker for i in xrange(len(nuc_biomarkers_names))])\n",
    "# print np.sum(indx_in)\n",
    "\n",
    "marker.index(nuc_biomarkers_names[1])\n",
    "\n",
    "nuc_biomarker_qual = np.array([int(quality[marker.index(nuc_biomarkers_names[i])]) \n",
    "                               for i in xrange(len(nuc_bio_indx))])\n",
    "print nuc_biomarker_qual\n",
    "\n",
    "indx_good_nuc_biomarker = nuc_bio_indx[nuc_biomarker_qual == 1]\n",
    "print indx_good_nuc_biomarker\n",
    "print len(indx_good_nuc_biomarker)"
   ]
  },
  {
   "cell_type": "code",
   "execution_count": 8,
   "metadata": {
    "collapsed": false
   },
   "outputs": [
    {
     "name": "stdout",
     "output_type": "stream",
     "text": [
      "['CK19', 'E_cad', 'ALDH1', 'CD20']\n",
      "['4EBP1', 'ALDH1', 'Akt', 'Albumin', 'BetaCatenin', 'CA9', 'CD20', 'CD3', 'CD31', 'CD68', 'CD8', 'COX2', 'Claudin1', 'CleavedCaspase3', 'ColIV', 'EGFR', 'EPCAM', 'ERK', 'EZH2', 'E_cad', 'Glut1', 'LaminA_C', 'MLH1', 'MSH2', 'NDRG1', 'NaKATPase', 'PTEN', 'S6', 'SMA', 'beta_actin', 'p4EBP1', 'p53', 'pERK', 'pGSK3beta', 'pMAPKAPK2', 'pNDRG1', 'pS6235', 'pck26']\n",
      "[15, 19, 21]\n",
      "['4EBP1', 'Akt', 'Albumin', 'BetaCatenin', 'CA9', 'CD3', 'CD31', 'CD68', 'CD8', 'COX2', 'Claudin1', 'CleavedCaspase3', 'ColIV', 'EGFR', 'EPCAM', 'ERK', 'EZH2', 'Glut1', 'LaminA_C', 'MLH1', 'MSH2', 'NDRG1', 'NaKATPase', 'PTEN', 'S6', 'SMA', 'beta_actin', 'p4EBP1', 'p53', 'pERK', 'pGSK3beta', 'pMAPKAPK2', 'pNDRG1', 'pS6235', 'pck26']\n",
      "35\n",
      "(1312641, 35)\n"
     ]
    }
   ],
   "source": [
    "delete_bm_indx = [12,19,24,27]\n",
    "delete_bm = [str.split(fields[nuc_bio_indx[i]],'.')[-1] for i in delete_bm_indx]\n",
    "print delete_bm\n",
    "good_nuc_biomarkers = [split_name[indx_good_nuc_biomarker[i]] for i in xrange(len(indx_good_nuc_biomarker))]\n",
    "print sorted(good_nuc_biomarkers)\n",
    "\n",
    "indx_delete = [good_nuc_biomarkers.index(delete_bm[i]) for i in xrange(1,len(delete_bm))]\n",
    "print indx_delete\n",
    "indx_good_nuc_biomarker = np.delete(indx_good_nuc_biomarker,indx_delete)\n",
    "good_nuc_biomarkers = [split_name[indx_good_nuc_biomarker[i]] for i in xrange(len(indx_good_nuc_biomarker))]\n",
    "print sorted(good_nuc_biomarkers)\n",
    "print len(good_nuc_biomarkers)\n",
    "bm_data = biomarkers[:,indx_good_nuc_biomarker]\n",
    "print bm_data.shape"
   ]
  },
  {
   "cell_type": "code",
   "execution_count": 9,
   "metadata": {
    "collapsed": true
   },
   "outputs": [
    {
     "name": "stdout",
     "output_type": "stream",
     "text": [
      "biomarker name is  Median.Nuc.Albumin\n",
      "mean of all slides for that biomarker is 10.2851711892\n",
      "median of all slides for that biomarker is 10.237627074\n",
      "std of all slides for that biomarker is 0.88467150602\n",
      "\n",
      "\n",
      "mean of slide  1 for that biomarker is"
     ]
    },
    {
     "ename": "NameError",
     "evalue": "name 'all_slide_id' is not defined",
     "output_type": "error",
     "traceback": [
      "\u001b[0;31m---------------------------------------------------------------------------\u001b[0m",
      "\u001b[0;31mNameError\u001b[0m                                 Traceback (most recent call last)",
      "\u001b[0;32m<ipython-input-9-f76a62b6d057>\u001b[0m in \u001b[0;36m<module>\u001b[0;34m()\u001b[0m\n\u001b[1;32m      6\u001b[0m \u001b[0;32mprint\u001b[0m \u001b[0;34m'\\n'\u001b[0m\u001b[0;34m\u001b[0m\u001b[0m\n\u001b[1;32m      7\u001b[0m \u001b[0;32mfor\u001b[0m \u001b[0mi\u001b[0m \u001b[0;32min\u001b[0m \u001b[0mxrange\u001b[0m\u001b[0;34m(\u001b[0m\u001b[0;36m3\u001b[0m\u001b[0;34m)\u001b[0m\u001b[0;34m:\u001b[0m\u001b[0;34m\u001b[0m\u001b[0m\n\u001b[0;32m----> 8\u001b[0;31m     \u001b[0;32mprint\u001b[0m \u001b[0;34m'mean of slide '\u001b[0m\u001b[0;34m,\u001b[0m \u001b[0mstr\u001b[0m\u001b[0;34m(\u001b[0m\u001b[0mi\u001b[0m\u001b[0;34m+\u001b[0m\u001b[0;36m1\u001b[0m\u001b[0;34m)\u001b[0m\u001b[0;34m,\u001b[0m \u001b[0;34m'for that biomarker is'\u001b[0m\u001b[0;34m,\u001b[0m \u001b[0mnp\u001b[0m\u001b[0;34m.\u001b[0m\u001b[0mmean\u001b[0m\u001b[0;34m(\u001b[0m\u001b[0mbiomarkers\u001b[0m\u001b[0;34m[\u001b[0m\u001b[0mall_slide_id\u001b[0m\u001b[0;34m==\u001b[0m\u001b[0mi\u001b[0m\u001b[0;34m+\u001b[0m\u001b[0;36m1\u001b[0m\u001b[0;34m,\u001b[0m\u001b[0mindx\u001b[0m\u001b[0;34m]\u001b[0m\u001b[0;34m)\u001b[0m\u001b[0;34m\u001b[0m\u001b[0m\n\u001b[0m\u001b[1;32m      9\u001b[0m     \u001b[0;32mprint\u001b[0m \u001b[0;34m'median of slide 2 slides for that biomarker is'\u001b[0m\u001b[0;34m,\u001b[0m \u001b[0mnp\u001b[0m\u001b[0;34m.\u001b[0m\u001b[0mmedian\u001b[0m\u001b[0;34m(\u001b[0m\u001b[0mbiomarkers\u001b[0m\u001b[0;34m[\u001b[0m\u001b[0mall_slide_id\u001b[0m\u001b[0;34m==\u001b[0m\u001b[0mi\u001b[0m\u001b[0;34m+\u001b[0m\u001b[0;36m1\u001b[0m\u001b[0;34m,\u001b[0m\u001b[0mindx\u001b[0m\u001b[0;34m]\u001b[0m\u001b[0;34m)\u001b[0m\u001b[0;34m\u001b[0m\u001b[0m\n\u001b[1;32m     10\u001b[0m     \u001b[0;32mprint\u001b[0m \u001b[0;34m'std of all slide 2 for that biomarker is'\u001b[0m\u001b[0;34m,\u001b[0m \u001b[0mnp\u001b[0m\u001b[0;34m.\u001b[0m\u001b[0mstd\u001b[0m\u001b[0;34m(\u001b[0m\u001b[0mbiomarkers\u001b[0m\u001b[0;34m[\u001b[0m\u001b[0mall_slide_id\u001b[0m\u001b[0;34m==\u001b[0m\u001b[0mi\u001b[0m\u001b[0;34m+\u001b[0m\u001b[0;36m1\u001b[0m\u001b[0;34m,\u001b[0m\u001b[0mindx\u001b[0m\u001b[0;34m]\u001b[0m\u001b[0;34m)\u001b[0m\u001b[0;34m\u001b[0m\u001b[0m\n",
      "\u001b[0;31mNameError\u001b[0m: name 'all_slide_id' is not defined"
     ]
    }
   ],
   "source": [
    "indx = nuc_bio_indx[11]\n",
    "print 'biomarker name is ',fields[indx]\n",
    "print 'mean of all slides for that biomarker is', np.mean(biomarkers[:,indx])\n",
    "print 'median of all slides for that biomarker is', np.median(biomarkers[:,indx])\n",
    "print 'std of all slides for that biomarker is', np.std(biomarkers[:,indx])\n",
    "print '\\n'\n",
    "for i in xrange(3):\n",
    "    print 'mean of slide ', str(i+1), 'for that biomarker is', np.mean(biomarkers[all_slide_id==i+1,indx])\n",
    "    print 'median of slide 2 slides for that biomarker is', np.median(biomarkers[all_slide_id==i+1,indx])\n",
    "    print 'std of all slide 2 for that biomarker is', np.std(biomarkers[all_slide_id==i+1,indx])\n",
    "    print '\\n'\n",
    "\n",
    "print np.delete(nuc_bio_indx, 12)"
   ]
  },
  {
   "cell_type": "code",
   "execution_count": 10,
   "metadata": {
    "collapsed": false
   },
   "outputs": [
    {
     "name": "stdout",
     "output_type": "stream",
     "text": [
      " 0.0126820661552\n"
     ]
    },
    {
     "data": {
      "text/plain": [
       "{1.0, 2.0, 3.0, 4.0, 5.0}"
      ]
     },
     "execution_count": 10,
     "metadata": {},
     "output_type": "execute_result"
    }
   ],
   "source": [
    "from __future__ import division\n",
    "print np.sum(biomarkers[:,7] > 1)/biomarkers.shape[0]\n",
    "set(biomarkers[:,7])"
   ]
  },
  {
   "cell_type": "code",
   "execution_count": 11,
   "metadata": {
    "collapsed": false
   },
   "outputs": [
    {
     "name": "stdout",
     "output_type": "stream",
     "text": [
      "SELECT cells.cell_id,cells.spot_id, spots.stage_sumajc, spots.spot_name, spots.slide_name, spots.position, ingestion.ingested FROM cells JOIN spots ON cells.spot_id == spots.spot_id JOIN ingestion ON spots.spot_id = ingestion.spot_id WHERE ingestion.ingested == 1 ORDER BY cells.spot_id\n",
      "1312641 (1312641, 35)\n",
      "SELECT cells.spot_id,COUNT(cells.cell_id)  FROM cells JOIN spots ON cells.spot_id = spots.spot_id JOIN ingestion ON cells.spot_id = ingestion.spot_id WHERE ingestion.ingested == 1 GROUP BY cells.spot_id ORDER BY cells.spot_id\n",
      "653\n"
     ]
    },
    {
     "data": {
      "image/png": "[encoded data removed]",
      "text/plain": [
       "<matplotlib.figure.Figure at 0x7f42bc65c9d0>"
      ]
     },
     "metadata": {},
     "output_type": "display_data"
    }
   ],
   "source": [
    "# query the cells in ingested spots\n",
    "sqlite_file = '/home/lun5/Documents/multiplex/data/spots.db'\n",
    "conn = sqlite3.connect(sqlite_file)\n",
    "c = conn.cursor()\n",
    "conn.text_factory = str\n",
    "\n",
    "# select cells.cell_id, cells.spot_id, spots.stage_sumajc, spots.spot_name, spots.slide_name, spots.position\n",
    "# ingestion.ingested from cells join spots on cells.spot_id = spots.spot_id \n",
    "# join ingestion on spots.spot_id = ingestion.spot_id where ingestion.ingested == 1 order by cells.spot_id\n",
    "# order by cells.spot_id\n",
    "\n",
    "\n",
    "sel_cmd = ('SELECT {tn1}.{coi1},{tn1}.{coi2}, {tn2}.{coi3}, {tn2}.{coi4}, {tn2}.{coi5}, {tn2}.{coi6}, {tn3}.{coi7}'\n",
    "+' FROM {tn1} JOIN {tn2} ON {tn1}.{coi2} == {tn2}.{coi2} JOIN {tn3} ON {tn2}.{coi2} = {tn3}.{coi2}'\n",
    "+ ' WHERE {tn3}.{coi7} == {0} ORDER BY {tn1}.{coi2}').format(1,\n",
    "coi1='cell_id',coi2='spot_id',coi3='stage_sumajc',coi4 = 'spot_name',\n",
    "coi5 = 'slide_name', coi6 = 'position', coi7 = 'ingested', tn1='cells',tn2='spots',tn3 = 'ingestion')\n",
    "\n",
    "print sel_cmd\n",
    "c.execute(sel_cmd)\n",
    "all_outputs =  c.fetchall()\n",
    "\n",
    "all_slide_names = [all_outputs[i][4] for i in xrange(len(all_outputs))]\n",
    "all_spot_names = [all_outputs[i][3] for i in xrange(len(all_outputs))]\n",
    "all_cell_stages = np.asarray([all_outputs[i][2] for i in xrange(len(all_outputs))])\n",
    "all_cell_id = np.asarray([all_outputs[i][0] for i in xrange(len(all_outputs))])\n",
    "all_spot_id = np.asarray([all_outputs[i][1] for i in xrange(len(all_outputs))])\n",
    "\n",
    "print len(all_slide_names), bm_data.shape\n",
    "\n",
    "# count number of cells in each spot\n",
    "# select spots.spot_id \n",
    "# select spots.spot_id, count(cells.cell_id) from spots join cells on spots.spot_id = \n",
    "# cells.spot_id join ingestion on spots.spot_id = ingestion.spot_id where ingestion.ingested \n",
    "# == 1 group by spots.spot_id;\n",
    "\n",
    "sel_cmd = ('SELECT {tn1}.{coi1},COUNT({tn1}.{coi2}) '\n",
    "           +' FROM {tn1} JOIN {tn2} ON {tn1}.{coi1} = {tn2}.{coi1} JOIN {tn3} ON {tn1}.{coi1} = {tn3}.{coi1}'\n",
    "           + ' WHERE {tn3}.{coi3} == {0} GROUP BY {tn1}.{coi1} ORDER BY {tn1}.{coi1}').format(\n",
    "    1, coi1='spot_id',coi2='cell_id',coi3 = 'ingested', tn1='cells',tn2='spots',tn3 = 'ingestion')\n",
    "\n",
    "print sel_cmd\n",
    "c.execute(sel_cmd)\n",
    "results = c.fetchall()\n",
    "num_cells = np.asarray([results[i][1] for i in xrange(len(results))])\n",
    "spot_id =  np.asarray([results[i][0] for i in xrange(len(results))])\n",
    "print len(num_cells)\n",
    "# the histogram of the data\n",
    "n, bins, patches = plt.hist(num_cells, 50, normed=1, facecolor='green', alpha=0.75)"
   ]
  },
  {
   "cell_type": "code",
   "execution_count": 13,
   "metadata": {
    "collapsed": false
   },
   "outputs": [
    {
     "name": "stdout",
     "output_type": "stream",
     "text": [
      "30.0 3500.0\n"
     ]
    },
    {
     "data": {
      "image/png": "[encoded data removed]",
      "text/plain": [
       "<matplotlib.figure.Figure at 0x7f41e1113f90>"
      ]
     },
     "metadata": {},
     "output_type": "display_data"
    }
   ],
   "source": [
    "areas = biomarkers[:,8]\n",
    "n, bins, patches = plt.hist(biomarkers[biomarkers[:,7]==1,8], 50, normed=1, facecolor='green', alpha=0.75)\n",
    "n, bins, patches = plt.hist(areas, 50, normed=1, facecolor='green', alpha=0.75)\n",
    "print np.min(areas),np.max(areas)"
   ]
  },
  {
   "cell_type": "code",
   "execution_count": 35,
   "metadata": {
    "collapsed": false
   },
   "outputs": [
    {
     "name": "stdout",
     "output_type": "stream",
     "text": [
      "Elastic: Already started calculation for alpha = 0.10 radius = 25, l1_ratio = 0.00\n",
      "Done with alpha=0.1, radius = 25 in 3593.18 seconds\n",
      "Elastic: Already started calculation for alpha = 0.10 radius = 25, l1_ratio = 0.30\n",
      "Done with alpha=0.1, radius = 25 in 2897.32 seconds\n",
      "Elastic: Have not calculated for alpha = 0.10 radius = 25, l1_ratio = 0.50\n",
      "Done with alpha=0.1, radius = 25 in 2888.18 seconds\n",
      "Elastic: Have not calculated for alpha = 0.10 radius = 25, l1_ratio = 0.70\n",
      "Done with alpha=0.1, radius = 25 in 2891.51 seconds\n",
      "Elastic: Have not calculated for alpha = 0.10 radius = 25, l1_ratio = 1.00\n",
      "Done with alpha=0.1, radius = 25 in 2891.85 seconds\n",
      "Elastic: Have not calculated for alpha = 0.10 radius = 50, l1_ratio = 0.00\n"
     ]
    },
    {
     "ename": "KeyboardInterrupt",
     "evalue": "",
     "output_type": "error",
     "traceback": [
      "\u001b[0;31m---------------------------------------------------------------------------\u001b[0m",
      "\u001b[0;31mKeyboardInterrupt\u001b[0m                         Traceback (most recent call last)",
      "\u001b[0;32m<ipython-input-35-5076a40d4e1e>\u001b[0m in \u001b[0;36m<module>\u001b[0;34m()\u001b[0m\n\u001b[1;32m    156\u001b[0m                         \u001b[0;34m'residuals_after_del'\u001b[0m\u001b[0;34m:\u001b[0m\u001b[0mresiduals_after_del\u001b[0m\u001b[0;34m,\u001b[0m\u001b[0;34m\u001b[0m\u001b[0m\n\u001b[1;32m    157\u001b[0m                         \u001b[0;34m'nnz_after_del'\u001b[0m\u001b[0;34m:\u001b[0m\u001b[0mnp\u001b[0m\u001b[0;34m.\u001b[0m\u001b[0masarray\u001b[0m\u001b[0;34m(\u001b[0m\u001b[0mnnz_after_del\u001b[0m\u001b[0;34m)\u001b[0m\u001b[0;34m,\u001b[0m\u001b[0;34m\u001b[0m\u001b[0m\n\u001b[0;32m--> 158\u001b[0;31m                         \u001b[0;34m'deleted_neighbor_id'\u001b[0m\u001b[0;34m:\u001b[0m \u001b[0mnp\u001b[0m\u001b[0;34m.\u001b[0m\u001b[0masarray\u001b[0m\u001b[0;34m(\u001b[0m\u001b[0mdeleted_neighbor_id\u001b[0m\u001b[0;34m)\u001b[0m\u001b[0;34m\u001b[0m\u001b[0m\n\u001b[0m\u001b[1;32m    159\u001b[0m                        })\n\u001b[1;32m    160\u001b[0m     \u001b[0;31m#or i in xrange(len(spot_id)):\u001b[0m\u001b[0;34m\u001b[0m\u001b[0;34m\u001b[0m\u001b[0m\n",
      "\u001b[0;32m/home/lun5/anaconda2/envs/biomarkers/lib/python2.7/site-packages/scipy/io/matlab/mio.pyc\u001b[0m in \u001b[0;36msavemat\u001b[0;34m(file_name, mdict, appendmat, format, long_field_names, do_compression, oned_as)\u001b[0m\n\u001b[1;32m    209\u001b[0m     \u001b[0;32melse\u001b[0m\u001b[0;34m:\u001b[0m\u001b[0;34m\u001b[0m\u001b[0m\n\u001b[1;32m    210\u001b[0m         \u001b[0;32mraise\u001b[0m \u001b[0mValueError\u001b[0m\u001b[0;34m(\u001b[0m\u001b[0;34m\"Format should be '4' or '5'\"\u001b[0m\u001b[0;34m)\u001b[0m\u001b[0;34m\u001b[0m\u001b[0m\n\u001b[0;32m--> 211\u001b[0;31m     \u001b[0mMW\u001b[0m\u001b[0;34m.\u001b[0m\u001b[0mput_variables\u001b[0m\u001b[0;34m(\u001b[0m\u001b[0mmdict\u001b[0m\u001b[0;34m)\u001b[0m\u001b[0;34m\u001b[0m\u001b[0m\n\u001b[0m\u001b[1;32m    212\u001b[0m     \u001b[0;32mif\u001b[0m \u001b[0mfile_is_string\u001b[0m\u001b[0;34m:\u001b[0m\u001b[0;34m\u001b[0m\u001b[0m\n\u001b[1;32m    213\u001b[0m         \u001b[0mfile_stream\u001b[0m\u001b[0;34m.\u001b[0m\u001b[0mclose\u001b[0m\u001b[0;34m(\u001b[0m\u001b[0;34m)\u001b[0m\u001b[0;34m\u001b[0m\u001b[0m\n",
      "\u001b[0;32m/home/lun5/anaconda2/envs/biomarkers/lib/python2.7/site-packages/scipy/io/matlab/mio5.pyc\u001b[0m in \u001b[0;36mput_variables\u001b[0;34m(self, mdict, write_header)\u001b[0m\n\u001b[1;32m    844\u001b[0m                 \u001b[0mself\u001b[0m\u001b[0;34m.\u001b[0m\u001b[0mfile_stream\u001b[0m\u001b[0;34m.\u001b[0m\u001b[0mwrite\u001b[0m\u001b[0;34m(\u001b[0m\u001b[0mout_str\u001b[0m\u001b[0;34m)\u001b[0m\u001b[0;34m\u001b[0m\u001b[0m\n\u001b[1;32m    845\u001b[0m             \u001b[0;32melse\u001b[0m\u001b[0;34m:\u001b[0m  \u001b[0;31m# not compressing\u001b[0m\u001b[0;34m\u001b[0m\u001b[0m\n\u001b[0;32m--> 846\u001b[0;31m                 \u001b[0mself\u001b[0m\u001b[0;34m.\u001b[0m\u001b[0m_matrix_writer\u001b[0m\u001b[0;34m.\u001b[0m\u001b[0mwrite_top\u001b[0m\u001b[0;34m(\u001b[0m\u001b[0mvar\u001b[0m\u001b[0;34m,\u001b[0m \u001b[0masbytes\u001b[0m\u001b[0;34m(\u001b[0m\u001b[0mname\u001b[0m\u001b[0;34m)\u001b[0m\u001b[0;34m,\u001b[0m \u001b[0mis_global\u001b[0m\u001b[0;34m)\u001b[0m\u001b[0;34m\u001b[0m\u001b[0m\n\u001b[0m",
      "\u001b[0;32m/home/lun5/anaconda2/envs/biomarkers/lib/python2.7/site-packages/scipy/io/matlab/mio5.pyc\u001b[0m in \u001b[0;36mwrite_top\u001b[0;34m(self, arr, name, is_global)\u001b[0m\n\u001b[1;32m    585\u001b[0m         \u001b[0mself\u001b[0m\u001b[0;34m.\u001b[0m\u001b[0m_var_name\u001b[0m \u001b[0;34m=\u001b[0m \u001b[0mname\u001b[0m\u001b[0;34m\u001b[0m\u001b[0m\n\u001b[1;32m    586\u001b[0m         \u001b[0;31m# write the header and data\u001b[0m\u001b[0;34m\u001b[0m\u001b[0;34m\u001b[0m\u001b[0m\n\u001b[0;32m--> 587\u001b[0;31m         \u001b[0mself\u001b[0m\u001b[0;34m.\u001b[0m\u001b[0mwrite\u001b[0m\u001b[0;34m(\u001b[0m\u001b[0marr\u001b[0m\u001b[0;34m)\u001b[0m\u001b[0;34m\u001b[0m\u001b[0m\n\u001b[0m\u001b[1;32m    588\u001b[0m \u001b[0;34m\u001b[0m\u001b[0m\n\u001b[1;32m    589\u001b[0m     \u001b[0;32mdef\u001b[0m \u001b[0mwrite\u001b[0m\u001b[0;34m(\u001b[0m\u001b[0mself\u001b[0m\u001b[0;34m,\u001b[0m \u001b[0marr\u001b[0m\u001b[0;34m)\u001b[0m\u001b[0;34m:\u001b[0m\u001b[0;34m\u001b[0m\u001b[0m\n",
      "\u001b[0;32m/home/lun5/anaconda2/envs/biomarkers/lib/python2.7/site-packages/scipy/io/matlab/mio5.pyc\u001b[0m in \u001b[0;36mwrite\u001b[0;34m(self, arr)\u001b[0m\n\u001b[1;32m    616\u001b[0m             \u001b[0mself\u001b[0m\u001b[0;34m.\u001b[0m\u001b[0mwrite_struct\u001b[0m\u001b[0;34m(\u001b[0m\u001b[0mnarr\u001b[0m\u001b[0;34m)\u001b[0m\u001b[0;34m\u001b[0m\u001b[0m\n\u001b[1;32m    617\u001b[0m         \u001b[0;32melif\u001b[0m \u001b[0mnarr\u001b[0m\u001b[0;34m.\u001b[0m\u001b[0mdtype\u001b[0m\u001b[0;34m.\u001b[0m\u001b[0mhasobject\u001b[0m\u001b[0;34m:\u001b[0m  \u001b[0;31m# cell array\u001b[0m\u001b[0;34m\u001b[0m\u001b[0m\n\u001b[0;32m--> 618\u001b[0;31m             \u001b[0mself\u001b[0m\u001b[0;34m.\u001b[0m\u001b[0mwrite_cells\u001b[0m\u001b[0;34m(\u001b[0m\u001b[0mnarr\u001b[0m\u001b[0;34m)\u001b[0m\u001b[0;34m\u001b[0m\u001b[0m\n\u001b[0m\u001b[1;32m    619\u001b[0m         \u001b[0;32melif\u001b[0m \u001b[0mnarr\u001b[0m\u001b[0;34m.\u001b[0m\u001b[0mdtype\u001b[0m\u001b[0;34m.\u001b[0m\u001b[0mkind\u001b[0m \u001b[0;32min\u001b[0m \u001b[0;34m(\u001b[0m\u001b[0;34m'U'\u001b[0m\u001b[0;34m,\u001b[0m \u001b[0;34m'S'\u001b[0m\u001b[0;34m)\u001b[0m\u001b[0;34m:\u001b[0m\u001b[0;34m\u001b[0m\u001b[0m\n\u001b[1;32m    620\u001b[0m             \u001b[0;32mif\u001b[0m \u001b[0mself\u001b[0m\u001b[0;34m.\u001b[0m\u001b[0municode_strings\u001b[0m\u001b[0;34m:\u001b[0m\u001b[0;34m\u001b[0m\u001b[0m\n",
      "\u001b[0;32m/home/lun5/anaconda2/envs/biomarkers/lib/python2.7/site-packages/scipy/io/matlab/mio5.pyc\u001b[0m in \u001b[0;36mwrite_cells\u001b[0;34m(self, arr)\u001b[0m\n\u001b[1;32m    721\u001b[0m         \u001b[0mA\u001b[0m \u001b[0;34m=\u001b[0m \u001b[0mnp\u001b[0m\u001b[0;34m.\u001b[0m\u001b[0matleast_2d\u001b[0m\u001b[0;34m(\u001b[0m\u001b[0marr\u001b[0m\u001b[0;34m)\u001b[0m\u001b[0;34m.\u001b[0m\u001b[0mflatten\u001b[0m\u001b[0;34m(\u001b[0m\u001b[0;34m'F'\u001b[0m\u001b[0;34m)\u001b[0m\u001b[0;34m\u001b[0m\u001b[0m\n\u001b[1;32m    722\u001b[0m         \u001b[0;32mfor\u001b[0m \u001b[0mel\u001b[0m \u001b[0;32min\u001b[0m \u001b[0mA\u001b[0m\u001b[0;34m:\u001b[0m\u001b[0;34m\u001b[0m\u001b[0m\n\u001b[0;32m--> 723\u001b[0;31m             \u001b[0mself\u001b[0m\u001b[0;34m.\u001b[0m\u001b[0mwrite\u001b[0m\u001b[0;34m(\u001b[0m\u001b[0mel\u001b[0m\u001b[0;34m)\u001b[0m\u001b[0;34m\u001b[0m\u001b[0m\n\u001b[0m\u001b[1;32m    724\u001b[0m \u001b[0;34m\u001b[0m\u001b[0m\n\u001b[1;32m    725\u001b[0m     \u001b[0;32mdef\u001b[0m \u001b[0mwrite_empty_struct\u001b[0m\u001b[0;34m(\u001b[0m\u001b[0mself\u001b[0m\u001b[0;34m)\u001b[0m\u001b[0;34m:\u001b[0m\u001b[0;34m\u001b[0m\u001b[0m\n",
      "\u001b[0;32m/home/lun5/anaconda2/envs/biomarkers/lib/python2.7/site-packages/scipy/io/matlab/mio5.pyc\u001b[0m in \u001b[0;36mwrite\u001b[0;34m(self, arr)\u001b[0m\n\u001b[1;32m    625\u001b[0m         \u001b[0;32melse\u001b[0m\u001b[0;34m:\u001b[0m\u001b[0;34m\u001b[0m\u001b[0m\n\u001b[1;32m    626\u001b[0m             \u001b[0mself\u001b[0m\u001b[0;34m.\u001b[0m\u001b[0mwrite_numeric\u001b[0m\u001b[0;34m(\u001b[0m\u001b[0mnarr\u001b[0m\u001b[0;34m)\u001b[0m\u001b[0;34m\u001b[0m\u001b[0m\n\u001b[0;32m--> 627\u001b[0;31m         \u001b[0mself\u001b[0m\u001b[0;34m.\u001b[0m\u001b[0mupdate_matrix_tag\u001b[0m\u001b[0;34m(\u001b[0m\u001b[0mmat_tag_pos\u001b[0m\u001b[0;34m)\u001b[0m\u001b[0;34m\u001b[0m\u001b[0m\n\u001b[0m\u001b[1;32m    628\u001b[0m \u001b[0;34m\u001b[0m\u001b[0m\n\u001b[1;32m    629\u001b[0m     \u001b[0;32mdef\u001b[0m \u001b[0mwrite_numeric\u001b[0m\u001b[0;34m(\u001b[0m\u001b[0mself\u001b[0m\u001b[0;34m,\u001b[0m \u001b[0marr\u001b[0m\u001b[0;34m)\u001b[0m\u001b[0;34m:\u001b[0m\u001b[0;34m\u001b[0m\u001b[0m\n",
      "\u001b[0;32m/home/lun5/anaconda2/envs/biomarkers/lib/python2.7/site-packages/scipy/io/matlab/mio5.pyc\u001b[0m in \u001b[0;36mupdate_matrix_tag\u001b[0;34m(self, start_pos)\u001b[0m\n\u001b[1;32m    558\u001b[0m     \u001b[0;32mdef\u001b[0m \u001b[0mupdate_matrix_tag\u001b[0m\u001b[0;34m(\u001b[0m\u001b[0mself\u001b[0m\u001b[0;34m,\u001b[0m \u001b[0mstart_pos\u001b[0m\u001b[0;34m)\u001b[0m\u001b[0;34m:\u001b[0m\u001b[0;34m\u001b[0m\u001b[0m\n\u001b[1;32m    559\u001b[0m         \u001b[0mcurr_pos\u001b[0m \u001b[0;34m=\u001b[0m \u001b[0mself\u001b[0m\u001b[0;34m.\u001b[0m\u001b[0mfile_stream\u001b[0m\u001b[0;34m.\u001b[0m\u001b[0mtell\u001b[0m\u001b[0;34m(\u001b[0m\u001b[0;34m)\u001b[0m\u001b[0;34m\u001b[0m\u001b[0m\n\u001b[0;32m--> 560\u001b[0;31m         \u001b[0mself\u001b[0m\u001b[0;34m.\u001b[0m\u001b[0mfile_stream\u001b[0m\u001b[0;34m.\u001b[0m\u001b[0mseek\u001b[0m\u001b[0;34m(\u001b[0m\u001b[0mstart_pos\u001b[0m\u001b[0;34m)\u001b[0m\u001b[0;34m\u001b[0m\u001b[0m\n\u001b[0m\u001b[1;32m    561\u001b[0m         \u001b[0mbyte_count\u001b[0m \u001b[0;34m=\u001b[0m \u001b[0mcurr_pos\u001b[0m \u001b[0;34m-\u001b[0m \u001b[0mstart_pos\u001b[0m \u001b[0;34m-\u001b[0m \u001b[0;36m8\u001b[0m\u001b[0;34m\u001b[0m\u001b[0m\n\u001b[1;32m    562\u001b[0m         \u001b[0;32mif\u001b[0m \u001b[0mbyte_count\u001b[0m \u001b[0;34m>=\u001b[0m \u001b[0;36m2\u001b[0m\u001b[0;34m**\u001b[0m\u001b[0;36m32\u001b[0m\u001b[0;34m:\u001b[0m\u001b[0;34m\u001b[0m\u001b[0m\n",
      "\u001b[0;31mKeyboardInterrupt\u001b[0m: "
     ]
    }
   ],
   "source": [
    "from sklearn.neighbors import NearestNeighbors, KDTree\n",
    "from sklearn import linear_model\n",
    "import scipy.io\n",
    "from itertools import product\n",
    "\n",
    "output_path = '/media/ColonCancerStudy/NN_data'\n",
    "# Question is how do you choose alpha here, we can test\n",
    "alphas = [.1,1]\n",
    "radii = [25, 50,75,100] # Values: 50, 100\n",
    "\n",
    "num_nuclei = biomarkers[:,7]\n",
    "areas = biomarkers[:,8]\n",
    "xy_coords = biomarkers[:,:2]\n",
    "epi_stroma = biomarkers[:,2]\n",
    "\n",
    "np.random.seed(0)\n",
    "\n",
    "# l1_ratio = 0.5\n",
    "l1_ratios = [0.3, 0.5, 0.7, 1] # need to add 0 in there\n",
    "#print all_spot_names[np.nonzero(all_spot_id == 30)[0][0]]\n",
    "\n",
    "for alpha, radius, l1_ratio in product(alphas, radii,l1_ratios):\n",
    "    NN_OUTPUT = os.path.join(output_path, ('Elastic_NN_radius_' + str(radius)) + '_alpha_' +str(alpha) \n",
    "                          + '_L1_ratio_' + str(l1_ratio))\n",
    "    if os.path.isdir(NN_OUTPUT):\n",
    "        print(('Elastic: Already started calculation for alpha = %0.2f radius = %d, l1_ratio = %0.2f') %(\n",
    "            alpha, radius, l1_ratio))\n",
    "    #continue\n",
    "    if not os.path.isdir(NN_OUTPUT):\n",
    "        print(('Elastic: Have not calculated for alpha = %0.2f radius = %d, l1_ratio = %0.2f') %(\n",
    "            alpha, radius, l1_ratio))\n",
    "        os.makedirs(NN_OUTPUT)\n",
    "    nn_all_spots = []\n",
    "    nn_all_residuals = []\n",
    "    nn_all_spots_after_del = []\n",
    "    nn_all_residuals_after_del = []\n",
    "    start_time = time.time()\n",
    "    for i in xrange(len(spot_id)):\n",
    "        spot_name = all_spot_names[np.nonzero(all_spot_id ==spot_id[i])[0][0]]\n",
    "        if os.path.isfile(os.path.join(NN_OUTPUT,spot_name + '.mat')):\n",
    "            mat_dict = scipy.io.loadmat(os.path.join(NN_OUTPUT,spot_name + '.mat'))\n",
    "            nn_all_spots.append(mat_dict['num_nn'])\n",
    "            nn_all_residuals.append(mat_dict['residuals'])\n",
    "            if 'nnz_after_del' in mat_dict.keys():\n",
    "                nn_all_spots_after_del.append(mat_dict['nnz_after_del'])\n",
    "                nn_all_residuals_after_del.append(mat_dict['residuals_after_del'])\n",
    "        else:    \n",
    "            #clf = linear_model.ElasticNet(alpha=alpha, l1_ratio=l1_ratio)\n",
    "            #clf = linear_model.Lasso(alpha=alpha)\n",
    "            #clf = linear_model.ElasticNet(alpha=alpha, l1_ratio=0.5)\n",
    "            num_non_zeros_nn = [] # number of contributing neighbors\n",
    "            residuals = [] # residuals for each cell\n",
    "            predictive_bm = [] # biomarker that is the most predictive\n",
    "            residuals_bm = [] # residuals of all 35 biomarker\n",
    "            dist_to_neighbors = [] # distance to neighbors\n",
    "            coeff_neighbors = [] # contribution of neighbors\n",
    "            conn_types = [] # connection types to its neighbors 1: same type, 0: different type(stroma vs epi)\n",
    "            neighbor_id = [] # id of neighbor\n",
    "    \n",
    "            # save variable after deleting the most predictive biomarker\n",
    "            neighbor_id_after_del = []\n",
    "            coeff_neighbors_after_del = []\n",
    "            residuals_bm_after_del = []\n",
    "            residuals_after_del = []\n",
    "            nnz_after_del = [] # number of predictive biomarkers after deletion\n",
    "            deleted_neighbor_id = [] # the id of deleted neighbor\n",
    "            cell_id = all_cell_id[all_spot_id == spot_id[i]]\n",
    "    \n",
    "            #print spot_name\n",
    "            spot_bm = bm_data[cell_id - 1, :] # biomarker values of the spot\n",
    "            spot_xy = xy_coords[cell_id -1, :] # x,y coordinates of each cell\n",
    "            spot_cell_num_nuclei = num_nuclei[cell_id -1] # number of nuclei of each cell\n",
    "            spot_cell_areas = areas[cell_id-1] # area of each cell\n",
    "            spot_epi_stroma = epi_stroma[cell_id -1] # whether each cell is epithelial/stroma \n",
    "    \n",
    "            # get nearest neighbors\n",
    "            tree = KDTree(spot_xy)\n",
    "            ind, dist = tree.query_radius(spot_xy, r = radius, return_distance = True)\n",
    "            for j in xrange(len(cell_id)):\n",
    "                clf = linear_model.ElasticNet(alpha=alpha, l1_ratio=l1_ratio)\n",
    "                #cell_bm = bm_data[cell_id[j]-1,:].reshape(1,-1)\n",
    "                #nb_bm = bm_data[cell_id[ind[j][ind[j]!= j]]-1,:] # nearest neighbors within \n",
    "                #print cell_bm.shape, nb_bm.shape\n",
    "                cell_bm = spot_bm[j,:].reshape(1,-1) # cell of question\n",
    "                #nb_bm = spot_bm[ind[j][ind[j]!=j], :]\n",
    "                nb_bm = spot_bm[ind[j][dist[j]!=0], :] # eliminate itself\n",
    "                dist_to_neighbors.append(dist[j][dist[j]!=0])\n",
    "                conn = spot_epi_stroma[j] == spot_epi_stroma[ind[j][dist[j]!=0]]\n",
    "                conn_types.append(np.asarray([int(conn[k]) for k in xrange(len(conn))]))\n",
    "                curr_neigh_ind = ind[j][dist[j]!=0]\n",
    "                neighbor_id.append(ind[j][dist[j]!=0])\n",
    "                if np.min(nb_bm.shape) > 0:\n",
    "                    clf.fit(nb_bm.T,cell_bm.T)\n",
    "                    num_non_zeros_nn.append(np.sum(clf.coef_ !=0))\n",
    "                    coeff_neighbors.append(clf.coef_)\n",
    "                    pred = clf.predict(nb_bm.T).reshape(1,-1)\n",
    "                    resid_biomarkers = np.square(cell_bm - pred)\n",
    "                    residuals.append(np.sqrt(resid_biomarkers.sum())/cell_bm.shape[1])\n",
    "                    predictive_bm.append(good_nuc_biomarkers[np.argmin(resid_biomarkers)])\n",
    "                    residuals_bm.append(resid_biomarkers)\n",
    "            \n",
    "                    # delete the most predictive biomarker\n",
    "                    most_predictive_neighbor = np.argmax(clf.coef_)\n",
    "                    nb_bm_after_del = np.delete(nb_bm,most_predictive_neighbor,0)\n",
    "                    if np.min(nb_bm_after_del.shape) > 0:\n",
    "                        clf.fit(nb_bm_after_del.T, cell_bm.T)\n",
    "                        coeff_neighbors_after_del.append(clf.coef_)\n",
    "                        pred = clf.predict(nb_bm_after_del.T).reshape(1,-1)\n",
    "                        resid_biomarkers = np.square(cell_bm - pred)\n",
    "                        residuals_after_del.append(np.sqrt(resid_biomarkers.sum())/cell_bm.shape[1])\n",
    "                        residuals_bm_after_del.append(resid_biomarkers)\n",
    "                        nnz_after_del.append(np.sum(clf.coef_ != 0))\n",
    "                        deleted_neighbor_id.append(curr_neigh_ind[most_predictive_neighbor])\n",
    "                        neighbor_id_after_del.append(np.delete(curr_neigh_ind,most_predictive_neighbor))\n",
    "                    else:\n",
    "                        coeff_neighbors_after_del.append([])\n",
    "                        residuals_after_del.append(0)\n",
    "                        residuals_bm_after_del.append(cell_bm)\n",
    "                        nnz_after_del.append(0)\n",
    "                        deleted_neighbor_id.append(0)\n",
    "                        neighbor_id_after_del.append([])\n",
    "                else:\n",
    "                    #print spot_name, j, nb_bm.shape                   \n",
    "                    num_non_zeros_nn.append(0)\n",
    "                    coeff_neighbors.append([])\n",
    "                    residuals.append(0)\n",
    "                    predictive_bm.append('None')\n",
    "                    residuals_bm.append(cell_bm)\n",
    "                    # after deletion\n",
    "                    coeff_neighbors_after_del.append([])\n",
    "                    residuals_after_del.append(0)\n",
    "                    residuals_bm_after_del.append(cell_bm)\n",
    "                    nnz_after_del.append(0)\n",
    "                    deleted_neighbor_id.append(0)\n",
    "                    neighbor_id_after_del.append([])\n",
    "            #for j in xrange(len(cell_id)): END of this for loop\n",
    "\n",
    "\n",
    "            #clf = linear_model.ElasticNet(alpha=alpha, l1_ratio=l1_ratio)\n",
    "            residuals_bm = np.vstack(residuals_bm)\n",
    "            residuals_bm_after_del = np.vstack(residuals_after_del)\n",
    "            nn_all_spots.append(np.asarray(num_non_zeros_nn))\n",
    "            nn_all_residuals.append(np.asarray(residuals))\n",
    "            nn_all_spots_after_del.append(np.asarray(nnz_after_del))\n",
    "            nn_all_residuals_after_del.append(np.asarray(residuals_after_del))\n",
    "        \n",
    "            scipy.io.savemat(os.path.join(NN_OUTPUT,spot_name + '.mat'), \n",
    "                 mdict={'xy':spot_xy, 'areas':spot_cell_areas,\n",
    "                        'epi_stroma':spot_epi_stroma,'residuals':residuals,\n",
    "                        'residuals_bm':residuals_bm,'dist_to_neigh':dist_to_neighbors,\n",
    "                        'coeff_neigh':coeff_neighbors, 'predictive_bm':predictive_bm,\n",
    "                        'num_nn':np.asarray(num_non_zeros_nn),'num_nuclei':spot_cell_num_nuclei,\n",
    "                        'conn_types':conn_types, 'neighbor_id':neighbor_id,\n",
    "                        'nb_id_after_del':neighbor_id_after_del, 'coeff_after_del':coeff_neighbors_after_del,\n",
    "                        'residuals_bm_after_del': residuals_bm_after_del, \n",
    "                        'residuals_after_del':residuals_after_del,\n",
    "                        'nnz_after_del':np.asarray(nnz_after_del), \n",
    "                        'deleted_neighbor_id': np.asarray(deleted_neighbor_id)\n",
    "                       })\n",
    "    #or i in xrange(len(spot_id)):\n",
    "    print('Done with alpha=%0.1f, radius = %d in %0.2f seconds' %(alpha,radius, time.time() - start_time))\n",
    "    nn_all_spots = np.hstack(nn_all_spots)\n",
    "    nn_all_residuals = np.hstack(nn_all_residuals)\n",
    "    nn_all_residuals_after_del = np.hstack(nn_all_residuals_after_del)\n",
    "    nn_all_spots_after_del = np.hstack(nn_all_spots_after_del) \n",
    "    \n",
    "    scipy.io.savemat(os.path.join(NN_OUTPUT,'all_spots.mat'), \n",
    "                mdict={'residuals':nn_all_residuals, 'nn':nn_all_spots,\n",
    "                      'residuals_after_del': nn_all_residuals_after_del,\n",
    "                       'nn_after_del': nn_all_spots_after_del\n",
    "                      })\n",
    "# start_time = time.time()\n",
    "# biomarkers = np.load(os.path.join(data_path,'biomarkers.npy'))\n",
    "# print('----Load pickle takes %s seconds - so much faster----' %(time.time() - start_time))\n",
    "\n",
    "    #print ind, dist\n",
    "    #dist, ind = tree.query(spot_xy[:2,:], k=10)\n",
    "    #print ind, dist    "
   ]
  },
  {
   "cell_type": "code",
   "execution_count": 33,
   "metadata": {
    "collapsed": true
   },
   "outputs": [
    {
     "name": "stdout",
     "output_type": "stream",
     "text": [
      "dist_to_neigh\n",
      "coeff_neigh\n",
      "num_nn\n",
      "residuals_bm\n",
      "areas\n",
      "__header__\n",
      "__globals__\n",
      "predictive_bm\n",
      "conn_types\n",
      "xy\n",
      "residuals\n",
      "num_nuclei\n",
      "__version__\n",
      "neighbor_id\n",
      "epi_stroma\n",
      "[[ 3433.  3178.  2973. ...,    32.    32.    30.]]\n"
     ]
    },
    {
     "ename": "KeyError",
     "evalue": "'hey'",
     "output_type": "error",
     "traceback": [
      "\u001b[0;31m---------------------------------------------------------------------------\u001b[0m",
      "\u001b[0;31mKeyError\u001b[0m                                  Traceback (most recent call last)",
      "\u001b[0;32m<ipython-input-33-ae1d36249309>\u001b[0m in \u001b[0;36m<module>\u001b[0;34m()\u001b[0m\n\u001b[1;32m      5\u001b[0m \u001b[0;34m\u001b[0m\u001b[0m\n\u001b[1;32m      6\u001b[0m \u001b[0;32mprint\u001b[0m \u001b[0mmat_dict\u001b[0m\u001b[0;34m[\u001b[0m\u001b[0;34m'areas'\u001b[0m\u001b[0;34m]\u001b[0m\u001b[0;34m\u001b[0m\u001b[0m\n\u001b[0;32m----> 7\u001b[0;31m \u001b[0;32mprint\u001b[0m \u001b[0mmat_dict\u001b[0m\u001b[0;34m[\u001b[0m\u001b[0;34m'hey'\u001b[0m\u001b[0;34m]\u001b[0m\u001b[0;34m\u001b[0m\u001b[0m\n\u001b[0m",
      "\u001b[0;31mKeyError\u001b[0m: 'hey'"
     ]
    }
   ],
   "source": [
    "spot_name\n",
    "mat_dict = scipy.io.loadmat(os.path.join(NN_OUTPUT,spot_name + '.mat'))\n",
    "for key in mat_dict:\n",
    "    print key\n",
    "\n",
    "print mat_dict['areas']\n",
    "print mat_dict['hey']"
   ]
  },
  {
   "cell_type": "code",
   "execution_count": null,
   "metadata": {
    "collapsed": true
   },
   "outputs": [],
   "source": []
  },
  {
   "cell_type": "markdown",
   "metadata": {},
   "source": [
    "print cell_bm.T.shape, nb_bm.T.shape, nb_bm_after_del.shape\n",
    "print np.min(nb_bm_after_del.shape) \n",
    "print deleted_neighbor_id"
   ]
  },
  {
   "cell_type": "code",
   "execution_count": 20,
   "metadata": {
    "collapsed": false
   },
   "outputs": [
    {
     "name": "stdout",
     "output_type": "stream",
     "text": [
      "(35, 1) (35, 1)\n",
      "[[ 6.30419772  6.45004047  8.05543872  7.01165184  4.39878216  9.13699179\n",
      "   8.90960695  6.36821402  7.578037    3.2453367   9.9223261   5.49855983\n",
      "   3.66742037  0.          4.92898753  5.44893315  0.70498083  0.\n",
      "   5.95879189  3.58971409  2.67819768  1.94059499  5.03571882  2.32046648\n",
      "   5.20795637  4.99407129  5.66648851  6.30608272  4.82197145  1.95384307\n",
      "   3.4065867   7.02129302  5.41679281  2.818028    5.04416226]]\n",
      "[ 5.83946549  6.2114514   7.42637036  6.49840436  4.38892687  8.33189827\n",
      "  7.64270881  6.03540201  6.79037473  3.59921458  8.92877337  5.09030035\n",
      "  3.97757777  0.84350242  5.62546189  5.53761617  0.84350242  0.84350242\n",
      "  5.52584146  3.46973517  2.68234325  2.62340276  5.17821271  3.71838821\n",
      "  5.48792662  4.7912991   5.44037509  6.35755749  4.8177152   2.32114115\n",
      "  4.35349043  6.66690419  5.00737585  4.02764221  4.88646078]\n",
      "[ 0.836]\n"
     ]
    }
   ],
   "source": [
    "print cell_bm.T.shape, nb_bm.T.shape\n",
    "alpha = 1\n",
    "clf1 = linear_model.Lasso(alpha=alpha)\n",
    "clf1.fit(nb_bm.T,cell_bm.T)\n",
    "ypred = clf1.predict(nb_bm.T)\n",
    "print cell_bm\n",
    "print ypred.T\n",
    "print np.round(clf1.coef_,3)\n",
    "\n",
    "# Now L2\n",
    "# clf2 = linear_model.ElasticNet(alpha=alpha, l1_ratio=0)\n",
    "# clf2.fit(nb_bm.T,cell_bm.T)\n",
    "# print np.round(clf2.coef_.T,3)"
   ]
  },
  {
   "cell_type": "code",
   "execution_count": null,
   "metadata": {
    "collapsed": true
   },
   "outputs": [],
   "source": []
  }
 ],
 "metadata": {
  "anaconda-cloud": {},
  "kernelspec": {
   "display_name": "Python [conda env:biomarkers]",
   "language": "python",
   "name": "conda-env-biomarkers-py"
  },
  "language_info": {
   "codemirror_mode": {
    "name": "ipython",
    "version": 2
   },
   "file_extension": ".py",
   "mimetype": "text/x-python",
   "name": "python",
   "nbconvert_exporter": "python",
   "pygments_lexer": "ipython2",
   "version": "2.7.12"
  }
 },
 "nbformat": 4,
 "nbformat_minor": 1
}
